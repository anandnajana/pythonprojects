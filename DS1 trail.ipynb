{
 "cells": [
  {
   "metadata": {
    "ExecuteTime": {
     "end_time": "2025-01-29T12:00:23.919650Z",
     "start_time": "2025-01-29T12:00:23.916174Z"
    }
   },
   "cell_type": "code",
   "source": "print(\"Trying for DS\")\n",
   "id": "32448b131a984cac",
   "outputs": [
    {
     "name": "stdout",
     "output_type": "stream",
     "text": [
      "Trying for DS\n"
     ]
    }
   ],
   "execution_count": 2
  },
  {
   "metadata": {},
   "cell_type": "markdown",
   "source": [
    "# Learning to use Jupyter notebook\n",
    "# Learning code this is the beginning\n"
   ],
   "id": "32daf9e2534d98a2"
  },
  {
   "metadata": {
    "ExecuteTime": {
     "end_time": "2025-01-29T12:01:19.104705Z",
     "start_time": "2025-01-29T12:01:19.101664Z"
    }
   },
   "cell_type": "code",
   "source": "print('Hello viewers')",
   "id": "8c57da249be1f2ad",
   "outputs": [
    {
     "name": "stdout",
     "output_type": "stream",
     "text": [
      "Hello viewers\n"
     ]
    }
   ],
   "execution_count": 3
  },
  {
   "metadata": {
    "ExecuteTime": {
     "end_time": "2025-01-29T12:07:13.217630Z",
     "start_time": "2025-01-29T12:07:13.214883Z"
    }
   },
   "cell_type": "code",
   "source": [
    "import numpy as np\n",
    "import pandas as pd"
   ],
   "id": "dc88be27d97ab76e",
   "outputs": [],
   "execution_count": 7
  },
  {
   "metadata": {},
   "cell_type": "markdown",
   "source": "",
   "id": "6a48575ac48acd01"
  }
 ],
 "metadata": {
  "kernelspec": {
   "name": "python3",
   "language": "python",
   "display_name": "Python 3 (ipykernel)"
  }
 },
 "nbformat": 5,
 "nbformat_minor": 9
}
